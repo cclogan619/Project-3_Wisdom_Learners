{
 "cells": [
  {
   "cell_type": "code",
   "execution_count": null,
   "id": "f1f8d128-a417-4d91-8e54-9b6f75352324",
   "metadata": {},
   "outputs": [],
   "source": [
    "# Import the required libraries and dependencies\n",
    "import os\n",
    "import requests\n",
    "import pandas as pd\n",
    "from dotenv import load_dotenv\n",
    "import alpaca_trade_api as tradeapi"
   ]
  },
  {
   "cell_type": "code",
   "execution_count": null,
   "id": "65117ea8-ace7-4c58-889c-a0ed814df934",
   "metadata": {},
   "outputs": [],
   "source": [
    "# Load .env environment variables\n",
    "load_dotenv()\n",
    "\n",
    "# Set Alpaca API key and secret\n",
    "alpaca_api_key = os.getenv(\"ALPACA_API_KEY\")\n",
    "alpaca_secret_key = os.getenv(\"ALPACA_SECRET_KEY\")"
   ]
  },
  {
   "cell_type": "code",
   "execution_count": null,
   "id": "dc8ee5dd-2716-4bb0-98b6-91fc9fb62b66",
   "metadata": {},
   "outputs": [],
   "source": [
    "# Create the Alpaca API object\n",
    "alpaca = tradeapi.REST(\n",
    "    alpaca_api_key,\n",
    "    alpaca_secret_key,\n",
    "    api_version=\"v2\")"
   ]
  },
  {
   "cell_type": "code",
   "execution_count": null,
   "id": "9e2d0b10-97cc-40fb-9bfb-2bb918bb95a1",
   "metadata": {},
   "outputs": [],
   "source": [
    "# Format current date as ISO format\n",
    "start_date = pd.Timestamp(\"2020-06-01\", tz=\"America/New_York\").isoformat()\n",
    "end_date = pd.Timestamp(\"2022-06-05\", tz=\"America/New_York\").isoformat()"
   ]
  },
  {
   "cell_type": "code",
   "execution_count": null,
   "id": "3057c7f5-2d18-487a-9ec7-f413504fa154",
   "metadata": {},
   "outputs": [],
   "source": [
    "start = start_date"
   ]
  },
  {
   "cell_type": "code",
   "execution_count": null,
   "id": "97bfe5e1-8cad-4026-9e3a-f4009634019e",
   "metadata": {},
   "outputs": [],
   "source": [
    "end = end_date"
   ]
  },
  {
   "cell_type": "code",
   "execution_count": null,
   "id": "7fa74d49-7701-483d-9e4a-4186c5e91993",
   "metadata": {},
   "outputs": [],
   "source": [
    "adjustment = \"0\""
   ]
  },
  {
   "cell_type": "code",
   "execution_count": null,
   "id": "59c30464-05f4-4ab4-8625-5a71a12202b5",
   "metadata": {},
   "outputs": [],
   "source": [
    "limit = \"0\""
   ]
  },
  {
   "cell_type": "code",
   "execution_count": null,
   "id": "8272ba19-5985-4f80-9009-5661f15f105f",
   "metadata": {},
   "outputs": [],
   "source": [
    "print(start_date)"
   ]
  },
  {
   "cell_type": "code",
   "execution_count": null,
   "id": "86301b38-46ea-4696-b58e-639c053c001d",
   "metadata": {},
   "outputs": [],
   "source": [
    "print(end_date)"
   ]
  },
  {
   "cell_type": "code",
   "execution_count": null,
   "id": "632d12f2-bd1c-424b-ba7b-d3e96251d64a",
   "metadata": {},
   "outputs": [],
   "source": [
    "# Set the tickers\n",
    "tickers = [\"CCL\", \"VIX\", \"SPY\"]"
   ]
  },
  {
   "cell_type": "code",
   "execution_count": null,
   "id": "0a082bcb-674f-44ec-9e43-c056e9519b57",
   "metadata": {},
   "outputs": [],
   "source": [
    "# Set timeframe to one day ('1Day') for the Alpaca API\n",
    "timeframe = \"1Day\""
   ]
  },
  {
   "cell_type": "code",
   "execution_count": null,
   "id": "198864ec-af28-479d-bf52-6626e689c7b5",
   "metadata": {},
   "outputs": [],
   "source": []
  },
  {
   "cell_type": "code",
   "execution_count": null,
   "id": "2dcbf1df-a3ad-4237-971e-5dfd453d409f",
   "metadata": {},
   "outputs": [],
   "source": [
    "\"\"\"\n",
    "DEEP DIVE - ACCESSING INFO ON ALPACA SDK PACKAGE\n",
    "The get_bars function from the Alpaca SDK takes the following parameters: symbols, \n",
    "timeframe, limit, start, end, after, and until. We can use these parameters to \n",
    "refine the query results. To learn more about this function, review the Alpaca bars \n",
    "API documentation (https://alpaca.markets/docs/api-documentation/api-v2/market-data/bars/)\n",
    ". Additionally, the Market Data Examples (https://alpaca.markets/docs/api-documentation/how-to/market-data/) \n",
    "page in the Alpaca documentation provides code examples of the get_bars function in several \n",
    "programming languages. Be sure to select the Python tab.\n",
    "\"\"\""
   ]
  },
  {
   "cell_type": "code",
   "execution_count": null,
   "id": "b94eba44-cda4-4b7a-9645-367b9b8ba16d",
   "metadata": {},
   "outputs": [],
   "source": [
    "# Get current closing prices for FB and TWTR\n",
    "df_portfolio = alpaca.get_bars(\n",
    "    tickers,\n",
    "    timeframe,\n",
    "    start,\n",
    "    end,\n",
    "    adjustment,\n",
    "    limit\n",
    ").df\n",
    "\n",
    "# Display sample data\n",
    "#df_portfolio"
   ]
  },
  {
   "cell_type": "code",
   "execution_count": null,
   "id": "7c933923-29ff-485f-a39c-2ee9305a003f",
   "metadata": {},
   "outputs": [],
   "source": []
  }
 ],
 "metadata": {
  "kernelspec": {
   "display_name": "Python 3.7.13 ('dev')",
   "language": "python",
   "name": "python3"
  },
  "language_info": {
   "codemirror_mode": {
    "name": "ipython",
    "version": 3
   },
   "file_extension": ".py",
   "mimetype": "text/x-python",
   "name": "python",
   "nbconvert_exporter": "python",
   "pygments_lexer": "ipython3",
   "version": "3.7.13"
  },
  "vscode": {
   "interpreter": {
    "hash": "29bbda686475ec5006212c3a74fe87ec94e3b0882a45b916fdad50cc65ea130c"
   }
  }
 },
 "nbformat": 4,
 "nbformat_minor": 5
}
